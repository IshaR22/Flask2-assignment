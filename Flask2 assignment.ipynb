{
 "cells": [
  {
   "cell_type": "code",
   "execution_count": null,
   "id": "6b8ca037-d11c-4646-a721-de92b1530bf7",
   "metadata": {},
   "outputs": [],
   "source": [
    "Q1. Explain GET and POST methods."
   ]
  },
  {
   "cell_type": "code",
   "execution_count": null,
   "id": "8fb5d5f4-c964-4167-8f50-78d709562e25",
   "metadata": {},
   "outputs": [],
   "source": [
    "GET and POST are the two most common methods used in HTTP requests, which is the foundation of communication between web \n",
    "browsers and servers.\n",
    "\n",
    "GET Method:\n",
    "The GET method is used to request data from a specified resource.\n",
    "When you use a GET request, the data is sent in the URL as parameters appended to the end of the URL.\n",
    "GET requests are typically used for fetching data from the server, like retrieving a web page or an image.\n",
    "Since the data is sent in the URL, it is visible to users and can be bookmarked and cached by browsers.\n",
    "GET requests are idempotent,meaning that making the same request multiple times should have the same effect as making it once.\n",
    "\n",
    "POST Method:\n",
    "The POST method is used to submit data to be processed to a specified resource.\n",
    "When you use a POST request, the data is sent in the request body, separate from the URL.\n",
    "POST requests are commonly used for actions that change the state of the server, like submitting a form or uploading a file.\n",
    "The data sent via POST is not visible in the URL and is typically used for sensitive or large amounts of data.\n",
    "POST requests are not idempotent, meaning that making the same request multiple times may have different effects."
   ]
  },
  {
   "cell_type": "code",
   "execution_count": null,
   "id": "c87aafd9-5ef7-4ed7-890c-10a551a81aca",
   "metadata": {},
   "outputs": [],
   "source": [
    "Q2. Why is request used in Flask?"
   ]
  },
  {
   "cell_type": "code",
   "execution_count": null,
   "id": "e4390352-4507-43c4-81a4-60ee0aed0340",
   "metadata": {},
   "outputs": [],
   "source": [
    "In Flask, request is used to access incoming request data in a Flask application. It allows the Flask application to interact\n",
    "with data sent by the client ( web browser) as part of an HTTP request. The request object provides access to\n",
    "various properties and methods that make it easy to retrieve data such as form data, query parameters, JSON data, files \n",
    "uploaded via a form, and more.\n",
    "\n",
    "Here are a few reasons why request is used in Flask:\n",
    "\n",
    "Accessing Form Data: \n",
    "    When a form is submitted by a user, the data from the form fields is sent to the server as part of the request. \n",
    "    Flask request object allows you to access this form data so that you can process and use it in your application.\n",
    "Handling Query Parameters: \n",
    "    When a URL contains query parameters , Flask request object allows you to access these parameters, parse them, and use\n",
    "    them in your application logic.\n",
    "Working with JSON Data:\n",
    "    If the application receives JSON data in the request body, Flask request object allows you to access and parse this JSON \n",
    "    data, enabling you to work with it in your Flask routes.\n",
    "File Uploads:\n",
    "    When a form includes a file upload field and the user submits the form with a file, Flask request object provides methods\n",
    "    to access and handle the uploaded file(s).\n",
    "Request Metadata:\n",
    "    The request object also provides access to various metadata about the request, such as the HTTP method (request.method),\n",
    "    headers (request.headers), and the remote IP address (request.remote_addr), among others."
   ]
  },
  {
   "cell_type": "code",
   "execution_count": null,
   "id": "e1bc446c-5ff9-4759-89e5-e82270089be9",
   "metadata": {},
   "outputs": [],
   "source": [
    "Q3. Why is redirect() used in Flask?"
   ]
  },
  {
   "cell_type": "code",
   "execution_count": null,
   "id": "f6b9094e-545e-4b8f-bc34-7892a70ad3cf",
   "metadata": {},
   "outputs": [],
   "source": [
    "In Flask, the redirect() function is used to redirect the client (web browser) to a different URL. It is\n",
    "a helpful utility for navigation within a Flask application, allowing you to send users to different routes or external URLs\n",
    "based on certain conditions or user actions.\n",
    "\n",
    "Route Redirection:\n",
    "    to redirect users from one route to another within your Flask application based on certain conditions. \n",
    "    For example, after a user successfully submits a form, it was redirected to  \"thank you\" page using redirect().\n",
    "\n",
    "External URL Redirection:\n",
    "    use redirect() to send users to external URLs outside of your Flask application. For instance, after clicking on a link \n",
    "    or button, the  users are directed  to a different website or a specific page on another website.\n",
    "    \n",
    "URL Generation:\n",
    "     redirect() function can work seamlessly with URL generation functions like url_for(), allowing to redirect users to\n",
    "    named routes defined in your application. This is helpful for maintaining flexibility and avoiding hardcoding URLs in \n",
    "    the application."
   ]
  },
  {
   "cell_type": "code",
   "execution_count": null,
   "id": "09bc4b6a-3990-464e-8736-7371b2311e3e",
   "metadata": {},
   "outputs": [],
   "source": [
    "Q4. What are templates in Flask? Why is the render_template() function used?"
   ]
  },
  {
   "cell_type": "code",
   "execution_count": null,
   "id": "7fbe8b1b-ca71-4eea-87fa-d2ee0ef01c51",
   "metadata": {},
   "outputs": [],
   "source": [
    "In Flask, templates are files that contain static or dynamic content that can be rendered and displayed to users in response\n",
    "to a request. Templates are typically written in HTML and may include template tags that allow dynamic content to be inserted\n",
    "into the final HTML document.\n",
    "\n",
    "templates are used in Flask:\n",
    "\n",
    "Dynamic Content: \n",
    "    Templates allow us to generate HTML dynamically based on data passed from the Flask application. This allows us to create\n",
    "    web pages that can adapt and display different content based on user input, database queries, or other factors.\n",
    "Code Separation:\n",
    "    Templates help separate the presentation layer (HTML/CSS) from the application logic (Python code).This separation of\n",
    "    concerns makes it easier to maintain & update both the front-end and back-end components of the application independently.\n",
    "Reusability: \n",
    "    Templates can be reused across multiple routes/pages within your Flask application. This promotes consistency in the user\n",
    "    interface and reduces code duplication.\n",
    "Template Inheritance: \n",
    "    Flask supports template inheritance, allowing us to create base templates with common layout and structure and extend or \n",
    "    override specific blocks in child templates. This simplifies the process of creating and maintaining consistent layouts \n",
    "    across multiple pages.\n",
    "The render_template() function in Flask is used to render templates and return the resulting HTML content as a response to a\n",
    "client request. \n",
    "\n",
    "render_template() is used:\n",
    "\n",
    "Template Rendering: \n",
    "    render_template() takes the name of a template file as its argument and renders the template, replacing any template\n",
    "    tags or placeholders with actual data provided by the Flask application.\n",
    "Passing Data:\n",
    "    render_template() can also accept additional keyword arguments, allowing you to pass dynamic data from your Flask routes\n",
    "   to the template. This data can then be used within the template to generate dynamic content.\n",
    "Template Lookup: \n",
    "    render_template() automatically searches for templates in the configured template directory  and renders the specified\n",
    "    template file."
   ]
  },
  {
   "cell_type": "code",
   "execution_count": null,
   "id": "f944a60e-0698-4243-9acc-6a009cfadc2d",
   "metadata": {},
   "outputs": [],
   "source": [
    "Q5. Create a simple API. Use Postman to test it. Attach the screenshot of the output in the Jupyter Notebook."
   ]
  },
  {
   "cell_type": "markdown",
   "id": "de2c4a7b-22db-4399-bc7d-f156616841e8",
   "metadata": {},
   "source": []
  }
 ],
 "metadata": {
  "kernelspec": {
   "display_name": "Python 3 (ipykernel)",
   "language": "python",
   "name": "python3"
  },
  "language_info": {
   "codemirror_mode": {
    "name": "ipython",
    "version": 3
   },
   "file_extension": ".py",
   "mimetype": "text/x-python",
   "name": "python",
   "nbconvert_exporter": "python",
   "pygments_lexer": "ipython3",
   "version": "3.10.8"
  }
 },
 "nbformat": 4,
 "nbformat_minor": 5
}
